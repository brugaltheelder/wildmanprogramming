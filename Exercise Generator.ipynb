{
 "cells": [
  {
   "cell_type": "code",
   "execution_count": 94,
   "metadata": {},
   "outputs": [],
   "source": [
    "from exercise import *"
   ]
  },
  {
   "cell_type": "code",
   "execution_count": 95,
   "metadata": {
    "scrolled": true
   },
   "outputs": [
    {
     "name": "stdout",
     "output_type": "stream",
     "text": [
      "mace workout\n",
      "level:2\tL - 90 degree pivot uppercut\n",
      "level:2\tR - 90 degree pivot uppercut\n",
      "level:2\tL - single arm inside circle\n",
      "level:2\tR - single arm inside circle\n",
      "level:2\tL - single arm outside circle\n",
      "level:2\tR - single arm outside circle\n",
      "level:2\tL - barbell transition to squat\n",
      "level:2\tR - barbell transition to squat\n",
      "level:4\tL - single arm outside circle to alternate hand coin flip\n",
      "level:4\tR - single arm outside circle to alternate hand coin flip\n",
      "total time:10\n"
     ]
    }
   ],
   "source": [
    "print(\"mace workout\")\n",
    "time_limit = 10\n",    
    "mace = get_workout(mace_exercises,time_limit, level_lower_bound=1, level_upper_bound=4)\n",
    "print_workout(mace,order_by_level=True, randomize_RL = True, reverse_RL=False)\n",
    "round_time = 1 # time in minutes\n",
    "print('total time:{}'.format(round_time* sum([e.count for e in mace])))"
   ]
  },
  {
   "cell_type": "code",
   "execution_count": 96,
   "metadata": {},
   "outputs": [
    {
     "name": "stdout",
     "output_type": "stream",
     "text": [
      "club workout 1H\n",
      "level:1\tL - pullover\n",
      "level:1\tR - pullover\n",
      "level:1\tL - alternating pullover\n",
      "level:1\tR - alternating pullover\n",
      "level:1\tL - inside circles\n",
      "level:1\tR - inside circles\n",
      "level:2\tL - outside mill\n",
      "level:2\tR - outside mill\n",
      "level:3\tL - pendulum alternating mill\n",
      "level:3\tR - pendulum alternating mill\n",
      "level:3\talternating - swipe\n",
      "level:3\talternating - inside mill\n",
      "level:3\talternating - outside mill\n",
      "total time:13\n"
     ]
    }
   ],
   "source": [
    "print(\"club workout 1H\")\n",
    "time_limit = 12\n",
    "club_1h = get_workout(club_exercises_1h,time_limit, level_lower_bound=1, level_upper_bound=4)\n",
    "print_workout(club_1h,order_by_level=True, randomize_RL = True, reverse_RL=False)\n",
    "round_time = 1 # time in minutes\n",
    "print('total time:{}'.format(round_time* sum([e.count for e in club_1h])))"
   ]
  },
  {
   "cell_type": "code",
   "execution_count": 97,
   "metadata": {},
   "outputs": [
    {
     "name": "stdout",
     "output_type": "stream",
     "text": [
      "club workout 2H\n",
      "level:1\tL - inside circles\n",
      "level:1\tR - inside circles\n",
      "level:1\tL - outside circles\n",
      "level:1\tR - outside circles\n",
      "level:1\tL - alternating pullover\n",
      "level:1\tR - alternating pullover\n",
      "level:3\tL - alternating mill pendulum transition\n",
      "level:3\tR - alternating mill pendulum transition\n",
      "level:3\tL - alternating mill pullover transition\n",
      "level:3\tR - alternating mill pullover transition\n",
      "total time:10\n"
     ]
    }
   ],
   "source": [
    "print(\"club workout 2H\")\n",
    "time_limit=10\n",
    "club_2h = get_workout(club_exercises_2h,time_limit, level_lower_bound=1, level_upper_bound=4)\n",
    "print_workout(club_2h,order_by_level=True, randomize_RL = True, reverse_RL=False)\n",
    "round_time = 1 # time in minutes\n",
    "print('total time:{}'.format(round_time* sum([e.count for e in club_2h])))"
   ]
  },
  {
   "cell_type": "code",
   "execution_count": null,
   "metadata": {},
   "outputs": [],
   "source": []
  }
 ],
 "metadata": {
  "kernelspec": {
   "display_name": "Python 3",
   "language": "python",
   "name": "python3"
  },
  "language_info": {
   "codemirror_mode": {
    "name": "ipython",
    "version": 3
   },
   "file_extension": ".py",
   "mimetype": "text/x-python",
   "name": "python",
   "nbconvert_exporter": "python",
   "pygments_lexer": "ipython3",
   "version": "3.7.4"
  }
 },
 "nbformat": 4,
 "nbformat_minor": 4
}

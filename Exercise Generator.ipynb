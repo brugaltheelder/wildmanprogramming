{
 "cells": [
  {
   "cell_type": "code",
   "execution_count": 1,
   "metadata": {},
   "outputs": [],
   "source": [
    "from exercise import *"
   ]
  },
  {
   "cell_type": "code",
   "execution_count": 2,
   "metadata": {
    "scrolled": false
   },
   "outputs": [
    {
     "name": "stdout",
     "output_type": "stream",
     "text": [
      "generating mace workout\n",
      "level:1\tL - gamma cast\n",
      "level:1\tR - gamma cast\n",
      "\turl: https://www.youtube.com/watch?v=ccifkBh2JSI&list=PLk4oYPJ7TXKh050XTrfVFjPtDSeqYCfsh&index=3\n",
      "level:1\talternating - barbell transition\n",
      "\turl: https://www.youtube.com/watch?v=WQjHBHoC-MQ&list=PLk4oYPJ7TXKh050XTrfVFjPtDSeqYCfsh&index=4\n",
      "level:2\tL - 90 degree pivot uppercut\n",
      "level:2\tR - 90 degree pivot uppercut\n",
      "\turl: https://www.youtube.com/watch?v=ULFal2-zDt0&list=PLk4oYPJ7TXKh050XTrfVFjPtDSeqYCfsh&index=7\n",
      "level:2\tL - horizontal prayer transition to squat\n",
      "level:2\tR - horizontal prayer transition to squat\n",
      "\turl: https://www.youtube.com/watch?v=2yUz84zdBlk&list=PLk4oYPJ7TXKh050XTrfVFjPtDSeqYCfsh&index=13\n",
      "level:2\tL - paddle row to upper block\n",
      "level:2\tR - paddle row to upper block\n",
      "\turl: https://www.youtube.com/watch?v=4or7Sb8HyaU&list=PLk4oYPJ7TXKh050XTrfVFjPtDSeqYCfsh&index=12\n",
      "level:2\tL - horizontal prayer transition to target squat\n",
      "level:2\tR - horizontal prayer transition to target squat\n",
      "\turl: https://www.youtube.com/watch?v=2yUz84zdBlk&list=PLk4oYPJ7TXKh050XTrfVFjPtDSeqYCfsh&index=13\n",
      "level:2\tL - inverted side-to-side swings\n",
      "level:2\tR - inverted side-to-side swings\n",
      "\turl: https://www.youtube.com/watch?v=bLA2KSghSdc&list=PLk4oYPJ7TXKh050XTrfVFjPtDSeqYCfsh&index=8\n",
      "level:2\talternating - prayer transition to 360\n",
      "\turl: https://www.youtube.com/watch?v=0fjn0vidH2M&list=PLk4oYPJ7TXKh050XTrfVFjPtDSeqYCfsh&index=5\n",
      "level:3\talternating - barbell transition to squat to 360\n",
      "\turl: https://www.youtube.com/watch?v=kZK8Eq6ka0U&list=PLk4oYPJ7TXKh050XTrfVFjPtDSeqYCfsh&index=14\n",
      "level:3\tL - symmetrical stance front circles\n",
      "level:3\tR - symmetrical stance front circles\n",
      "\turl: https://www.youtube.com/watch?v=ULozVN0nz_U&list=PLk4oYPJ7TXKh050XTrfVFjPtDSeqYCfsh&index=31\n",
      "level:3\talternating - low block spin with prayer transition to 360\n",
      "\turl: https://www.youtube.com/watch?v=GXMSVSDtJVc&list=PLk4oYPJ7TXKh050XTrfVFjPtDSeqYCfsh&index=10\n",
      "level:4\tL - single arm outside circle to alternate hand coin flip\n",
      "level:4\tR - single arm outside circle to alternate hand coin flip\n",
      "\turl: https://www.youtube.com/watch?v=qX0nE-3VMN0&list=PLk4oYPJ7TXKh050XTrfVFjPtDSeqYCfsh&index=20\n",
      "total time:20\n"
     ]
    }
   ],
   "source": [
    "time_limit = 20          # number of exercises/variations you plan on doing, assumed to be 1 minute each\n",
    "level_lower_bound = 0    # lower complexity level\n",
    "level_upper_bound = 4    # upper complexity level, assumed to go to 10 (chosen by me, so not scientifically or anything)\n",
    "only_isolation = False   # if true, only chooses L and R isloation exercises\n",
    "only_alternating = False # if true, only chooses alternating exercises\n",
    "order_by_level=True      # orders the output  list in increasing complexity\n",
    "randomize_RL = True      # randomize if R or L comes first (and then is consistent)\n",
    "reverse_RL = False       # forces R to come first if true\n",
    "print_urls = True        # prints urls to Wildman's videos for each of the movement patterns \n",
    "\n",
    "\n",
    "\n",
    "get_mace_workout(time_limit, level_lower_bound =level_lower_bound, level_upper_bound = level_upper_bound, \n",
    "                only_isolation=only_isolation, only_alternating=only_alternating, order_by_level=order_by_level, \n",
    "                     randomize_RL = randomize_RL, reverse_RL=reverse_RL, print_urls=print_urls)"
   ]
  },
  {
   "cell_type": "code",
   "execution_count": 3,
   "metadata": {},
   "outputs": [
    {
     "name": "stdout",
     "output_type": "stream",
     "text": [
      "generating 1h club workout\n",
      "level:1\tR - forward swing\n",
      "level:1\tL - forward swing\n",
      "\turl: \n",
      "level:1\tR - inside circles\n",
      "level:1\tL - inside circles\n",
      "\turl: https://www.youtube.com/watch?v=0ZzoCasyoAM&list=PLk4oYPJ7TXKgVZH0qykDznDeaAcFImRuS&index=6\n",
      "level:1\tR - pullover\n",
      "level:1\tL - pullover\n",
      "\turl: \n",
      "level:2\tR - swipe\n",
      "level:2\tL - swipe\n",
      "\turl: \n",
      "level:2\tR - outside pendulum\n",
      "level:2\tL - outside pendulum\n",
      "\turl: https://www.youtube.com/watch?v=SchCGLfQbjI&list=PLk4oYPJ7TXKgVZH0qykDznDeaAcFImRuS&index=12\n",
      "level:2\talternating - forward swing hand to hand\n",
      "\turl: \n",
      "level:3\talternating - inside mill forward swing transition\n",
      "\turl: \n",
      "level:3\talternating - outside mill outside circle transition\n",
      "\turl: \n",
      "level:3\tR - alternating 180 degree pullover\n",
      "level:3\tL - alternating 180 degree pullover\n",
      "\turl: https://www.youtube.com/watch?v=9JeH7kTi1ys&list=PLk4oYPJ7TXKgVZH0qykDznDeaAcFImRuS&index=21\n",
      "level:3\tR - pendulum alternating mill\n",
      "level:3\tL - pendulum alternating mill\n",
      "\turl: \n",
      "level:3\talternating - swipe forward swing transition\n",
      "\turl: \n",
      "level:3\talternating - inside mill inside circle transition\n",
      "\turl: \n",
      "level:3\talternating - continuous inside circle hand change\n",
      "\turl: https://www.youtube.com/watch?v=XPZgv-vf7ME&list=PLk4oYPJ7TXKgVZH0qykDznDeaAcFImRuS&index=19\n",
      "total time:20\n"
     ]
    }
   ],
   "source": [
    "get_1h_club_workout(time_limit, level_lower_bound =level_lower_bound, level_upper_bound = level_upper_bound, \n",
    "                only_isolation=only_isolation, only_alternating=only_alternating, order_by_level=order_by_level, \n",
    "                     randomize_RL = randomize_RL, reverse_RL=reverse_RL, print_urls=print_urls)"
   ]
  },
  {
   "cell_type": "code",
   "execution_count": 4,
   "metadata": {},
   "outputs": [
    {
     "name": "stdout",
     "output_type": "stream",
     "text": [
      "generating 2h club workout\n",
      "level:1\tL - inside circles\n",
      "level:1\tR - inside circles\n",
      "\turl: https://www.youtube.com/watch?v=Exuf3a7RhYs&list=PLk4oYPJ7TXKgVZH0qykDznDeaAcFImRuS\n",
      "level:1\tL - pullover\n",
      "level:1\tR - pullover\n",
      "\turl: https://www.youtube.com/watch?v=HsM0J39EmXg&list=PLk4oYPJ7TXKgVZH0qykDznDeaAcFImRuS&index=3\n",
      "level:1\tL - outside circles\n",
      "level:1\tR - outside circles\n",
      "\turl: https://www.youtube.com/watch?v=-MuseVIc0bg&list=PLk4oYPJ7TXKgVZH0qykDznDeaAcFImRuS&index=2\n",
      "level:1\tL - alternating pullover\n",
      "level:1\tR - alternating pullover\n",
      "\turl: https://www.youtube.com/watch?v=HsM0J39EmXg&list=PLk4oYPJ7TXKgVZH0qykDznDeaAcFImRuS&index=3\n",
      "level:2\tL - inside pendulum\n",
      "level:2\tR - inside pendulum\n",
      "\turl: https://www.youtube.com/watch?v=Maz36Iuixk4&list=PLk4oYPJ7TXKgVZH0qykDznDeaAcFImRuS&index=9\n",
      "level:2\tL - gamma cast\n",
      "level:2\tR - gamma cast\n",
      "\turl: https://www.youtube.com/watch?v=rjhwF50fyd8&list=PLk4oYPJ7TXKgVZH0qykDznDeaAcFImRuS&index=5\n",
      "level:3\tL - inside mill\n",
      "level:3\tR - inside mill\n",
      "\turl: \n",
      "level:3\tL - half kneeling shield cast\n",
      "level:3\tR - half kneeling shield cast\n",
      "\turl: https://www.youtube.com/watch?v=vyLu0AFD-Mc&list=PLk4oYPJ7TXKgVZH0qykDznDeaAcFImRuS&index=31\n",
      "level:3\tL - alternating pendulum\n",
      "level:3\tR - alternating pendulum\n",
      "\turl: https://www.youtube.com/watch?v=GULjXPS_ba4&list=PLk4oYPJ7TXKgVZH0qykDznDeaAcFImRuS&index=14\n",
      "level:4\tL - alternating mill pullover transition\n",
      "level:4\tR - alternating mill pullover transition\n",
      "\turl: \n",
      "total time:20\n"
     ]
    }
   ],
   "source": [
    "get_2h_club_workout(time_limit, level_lower_bound =level_lower_bound, level_upper_bound = level_upper_bound, \n",
    "                only_isolation=only_isolation, only_alternating=only_alternating, order_by_level=order_by_level, \n",
    "                     randomize_RL = randomize_RL, reverse_RL=reverse_RL, print_urls=print_urls)"
   ]
  },
  {
   "cell_type": "code",
   "execution_count": null,
   "metadata": {},
   "outputs": [],
   "source": []
  }
 ],
 "metadata": {
  "kernelspec": {
   "display_name": "Python 2",
   "language": "python",
   "name": "python2"
  },
  "language_info": {
   "codemirror_mode": {
    "name": "ipython",
    "version": 2
   },
   "file_extension": ".py",
   "mimetype": "text/x-python",
   "name": "python",
   "nbconvert_exporter": "python",
   "pygments_lexer": "ipython2",
   "version": "2.7.15"
  }
 },
 "nbformat": 4,
 "nbformat_minor": 4
}

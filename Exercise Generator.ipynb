{
 "cells": [
  {
   "cell_type": "code",
   "execution_count": 1,
   "metadata": {},
   "outputs": [],
   "source": [
    "from exercise import *"
   ]
  },
  {
   "cell_type": "code",
   "execution_count": 8,
   "metadata": {
    "scrolled": true
   },
   "outputs": [
    {
     "name": "stdout",
     "output_type": "stream",
     "text": [
      "generating mace workout\n",
      "total time:0\n"
     ]
    }
   ],
   "source": [
    "time_limit = 10 # number of exercises/variations you plan on doing, assumed to be 1 minute each\n",
    "level_lower_bound = 0 # lower complexity level\n",
    "level_upper_bound = 4 # upper complexity level, assumed to go to 10 (chosen by me, so not scientifically or anything)\n",
    "only_isolation = False # if true, only chooses L and R isloation exercises\n",
    "only_alternating = False # if true, only chooses alternating exercises\n",
    "order_by_level=True # orders the output  list in increasing complexity\n",
    "randomize_RL = True # randomize if R or L comes first (and then is consistent)\n",
    "reverse_RL = False # forces R to come first if true\n",
    "print_urls = True # prints urls to Wildman's videos for each of the movement patterns \n",
    "\n",
    "\n",
    "\n",
    "get_mace_workout(time_limit, level_lower_bound =level_lower_bound, level_upper_bound = level_upper_bound, \n",
    "                only_isolation=only_isolation, only_alternating=only_alternating, order_by_level=order_by_level, \n",
    "                     randomize_RL = randomize_RL, reverse_RL=reverse_RL, print_urls=print_urls)"
   ]
  },
  {
   "cell_type": "code",
   "execution_count": 6,
   "metadata": {},
   "outputs": [
    {
     "name": "stdout",
     "output_type": "stream",
     "text": [
      "generating 1h club workout\n",
      "level:1\tR - inside circles\n",
      "level:1\tL - inside circles\n",
      "\turl: \n",
      "level:1\tR - outside swing\n",
      "level:1\tL - outside swing\n",
      "\turl: \n",
      "level:1\tR - alternating pullover\n",
      "level:1\tL - alternating pullover\n",
      "\turl: \n",
      "level:1\tR - outside circles\n",
      "level:1\tL - outside circles\n",
      "\turl: \n",
      "level:1\tR - pullover\n",
      "level:1\tL - pullover\n",
      "\turl: \n",
      "total time:10\n"
     ]
    }
   ],
   "source": [
    "get_1h_club_workout(time_limit, level_lower_bound =level_lower_bound, level_upper_bound = level_upper_bound, \n",
    "                only_isolation=only_isolation, only_alternating=only_alternating, order_by_level=order_by_level, \n",
    "                     randomize_RL = randomize_RL, reverse_RL=reverse_RL, print_urls=print_urls)"
   ]
  },
  {
   "cell_type": "code",
   "execution_count": 9,
   "metadata": {},
   "outputs": [
    {
     "name": "stdout",
     "output_type": "stream",
     "text": [
      "generating 2h club workout\n",
      "total time:0\n"
     ]
    }
   ],
   "source": [
    "get_2h_club_workout(time_limit, level_lower_bound =level_lower_bound, level_upper_bound = level_upper_bound, \n",
    "                only_isolation=only_isolation, only_alternating=only_alternating, order_by_level=order_by_level, \n",
    "                     randomize_RL = randomize_RL, reverse_RL=reverse_RL, print_urls=print_urls)"
   ]
  },
  {
   "cell_type": "code",
   "execution_count": null,
   "metadata": {},
   "outputs": [],
   "source": []
  }
 ],
 "metadata": {
  "kernelspec": {
   "display_name": "Python 3",
   "language": "python",
   "name": "python3"
  },
  "language_info": {
   "codemirror_mode": {
    "name": "ipython",
    "version": 3
   },
   "file_extension": ".py",
   "mimetype": "text/x-python",
   "name": "python",
   "nbconvert_exporter": "python",
   "pygments_lexer": "ipython3",
   "version": "3.7.4"
  }
 },
 "nbformat": 4,
 "nbformat_minor": 4
}

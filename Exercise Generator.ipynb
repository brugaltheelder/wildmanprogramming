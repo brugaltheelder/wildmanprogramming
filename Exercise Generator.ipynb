{
 "cells": [
  {
   "cell_type": "code",
   "execution_count": 6,
   "metadata": {},
   "outputs": [],
   "source": [
    "from exercise import *"
   ]
  },
  {
   "cell_type": "code",
   "execution_count": 10,
   "metadata": {
    "scrolled": true
   },
   "outputs": [
    {
     "name": "stdout",
     "output_type": "stream",
     "text": [
      "generating mace workout\n",
      "level:1\talternating - barbell transition\n",
      "\turl: https://www.youtube.com/watch?v=WQjHBHoC-MQ&list=PLk4oYPJ7TXKh050XTrfVFjPtDSeqYCfsh&index=4\n",
      "level:1\tR - 360\n",
      "level:1\tL - 360\n",
      "\turl: https://youtu.be/TyZ8iYv6Ip0?list=PLk4oYPJ7TXKh050XTrfVFjPtDSeqYCfsh\n",
      "level:1\tR - low block spin with prayer transition\n",
      "level:1\tL - low block spin with prayer transition\n",
      "\turl: https://www.youtube.com/watch?v=fk8AG0s1-UI&list=PLk4oYPJ7TXKh050XTrfVFjPtDSeqYCfsh&index=9\n",
      "level:1\talternating - prayer transition\n",
      "\turl: https://www.youtube.com/watch?v=0fjn0vidH2M&list=PLk4oYPJ7TXKh050XTrfVFjPtDSeqYCfsh&index=5\n",
      "level:1\tR - gamma cast\n",
      "level:1\tL - gamma cast\n",
      "\turl: https://www.youtube.com/watch?v=ccifkBh2JSI&list=PLk4oYPJ7TXKh050XTrfVFjPtDSeqYCfsh&index=3\n",
      "total time:8\n"
     ]
    }
   ],
   "source": [
    "time_limit = 10 # number of exercises/variations you plan on doing, assumed to be 1 minute each\n",
    "level_lower_bound = 1 # lower complexity level\n",
    "level_upper_bound = 4 # upper complexity level, assumed to go to 10 (chosen by me, so not scientifically or anything)\n",
    "only_isolation = False # if true, only chooses L and R isloation exercises\n",
    "only_alternating = False # if true, only chooses alternating exercises\n",
    "order_by_level=True # orders the output  list in increasing complexity\n",
    "randomize_RL = True # randomize if R or L comes first (and then is consistent)\n",
    "reverse_RL = False # forces R to come first if true\n",
    "print_urls = True # prints urls to Wildman's videos for each of the movement patterns \n",
    "\n",
    "\n",
    "\n",
    "get_mace_workout(time_limit, level_lower_bound =level_lower_bound, level_upper_bound = level_upper_bound, \n",
    "                only_isolation=only_isolation, only_alternating=only_alternating, order_by_level=order_by_level, \n",
    "                     randomize_RL = randomize_RL, reverse_RL=reverse_RL, print_urls=print_urls)"
   ]
  },
  {
   "cell_type": "code",
   "execution_count": 8,
   "metadata": {},
   "outputs": [
    {
     "name": "stdout",
     "output_type": "stream",
     "text": [
      "club workout 1H\n",
      "level:1\tR - alternating pullover\n",
      "level:1\tL - alternating pullover\n",
      "level:1\tR - pullover\n",
      "level:1\tL - pullover\n",
      "level:1\tR - outside swing\n",
      "level:1\tL - outside swing\n",
      "level:2\tR - inside mill\n",
      "level:2\tL - inside mill\n",
      "level:2\tR - outside mill\n",
      "level:2\tL - outside mill\n",
      "level:3\talternating - outside mill circle transition\n",
      "level:3\talternating - swipe\n",
      "total time:12\n"
     ]
    }
   ],
   "source": [
    "print(\"club workout 1H\")\n",
    "time_limit = 12\n",
    "club_1h = get_workout(club_exercises_1h,time_limit, level_lower_bound=1, level_upper_bound=4)\n",
    "print_workout(club_1h,order_by_level=True, randomize_RL = True, reverse_RL=False)\n",
    "round_time = 1 # time in minutes\n",
    "print('total time:{}'.format(round_time* sum([e.count for e in club_1h])))"
   ]
  },
  {
   "cell_type": "code",
   "execution_count": 9,
   "metadata": {},
   "outputs": [
    {
     "name": "stdout",
     "output_type": "stream",
     "text": [
      "club workout 2H\n",
      "level:1\tR - pullover\n",
      "level:1\tL - pullover\n",
      "level:1\tR - inside circles\n",
      "level:1\tL - inside circles\n",
      "level:1\tR - outside circles\n",
      "level:1\tL - outside circles\n",
      "level:2\tR - outside mill\n",
      "level:2\tL - outside mill\n",
      "level:3\tR - alternating mill pullover transition\n",
      "level:3\tL - alternating mill pullover transition\n",
      "total time:10\n"
     ]
    }
   ],
   "source": [
    "print(\"club workout 2H\")\n",
    "time_limit=10\n",
    "club_2h = get_workout(club_exercises_2h,time_limit, level_lower_bound=1, level_upper_bound=4)\n",
    "print_workout(club_2h,order_by_level=True, randomize_RL = True, reverse_RL=False)\n",
    "round_time = 1 # time in minutes\n",
    "print('total time:{}'.format(round_time* sum([e.count for e in club_2h])))"
   ]
  },
  {
   "cell_type": "code",
   "execution_count": null,
   "metadata": {},
   "outputs": [],
   "source": []
  }
 ],
 "metadata": {
  "kernelspec": {
   "display_name": "Python 3",
   "language": "python",
   "name": "python3"
  },
  "language_info": {
   "codemirror_mode": {
    "name": "ipython",
    "version": 3
   },
   "file_extension": ".py",
   "mimetype": "text/x-python",
   "name": "python",
   "nbconvert_exporter": "python",
   "pygments_lexer": "ipython3",
   "version": "3.7.4"
  }
 },
 "nbformat": 4,
 "nbformat_minor": 4
}

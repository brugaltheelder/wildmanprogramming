{
 "cells": [
  {
   "cell_type": "code",
   "execution_count": 82,
   "metadata": {},
   "outputs": [],
   "source": [
    "import numpy as np"
   ]
  },
  {
   "cell_type": "code",
   "execution_count": 83,
   "metadata": {},
   "outputs": [],
   "source": [
    "class exercise(object):\n",
    "    def __init__(self, name, type_list, level = 1):\n",
    "        self.name = name\n",
    "        self.type_list = type_list\n",
    "        self.count = len(type_list)\n",
    "        self.level = level\n",
    "    def get_exercises(self, reverse_RL=False):\n",
    "        return_set = [t+\" - \"+self.name for t in self.type_list]\n",
    "        if reverse_RL:\n",
    "            return_set = return_set[::-1]\n",
    "        return return_set\n",
    "\n",
    "def get_workout(exercise_list, desired_time_bound, level_lower_bound = 0, level_upper_bound = 10):\n",
    "    total_time = 0\n",
    "    output_exercises = []\n",
    "    shuffled_indices = np.arange(len(exercise_list))\n",
    "    np.random.shuffle(shuffled_indices)\n",
    "    time_bound = min(sum([e.count for e in exercise_list]), desired_time_bound)\n",
    "    for s in shuffled_indices:\n",
    "        if exercise_list[s].level<=level_upper_bound and exercise_list[s].level>=level_lower_bound:\n",
    "            output_exercises.append(exercise_list[s])\n",
    "            total_time+=exercise_list[s].count\n",
    "            if total_time>=time_bound:\n",
    "                return output_exercises\n",
    "    return output_exercises\n",
    "        \n",
    "def print_workout(exercise_str_list, order_by_level=False, randomize_RL=False, reverse_RL=False):\n",
    "    if order_by_level:\n",
    "        exercise_str_list.sort(key=lambda x: x.level)    \n",
    "    rev = reverse_RL\n",
    "    if randomize_RL:\n",
    "        rev = True if np.random.rand()>0.5 else False\n",
    "    for s in exercise_str_list:        \n",
    "        for e in s.get_exercises(rev):\n",
    "            print('level:{}'.format(s.level) +'\\t' + e )"
   ]
  },
  {
   "cell_type": "code",
   "execution_count": 84,
   "metadata": {},
   "outputs": [],
   "source": [
    "mace_exercises = []\n",
    "mace_exercises.append(exercise('360',['L','R'], level=1))\n",
    "mace_exercises.append(exercise('gamma cast',['L','R'], level=1))\n",
    "mace_exercises.append(exercise('prayer transition',['alternating'], level=1))\n",
    "mace_exercises.append(exercise('prayer transition to 360',['alternating'], level=2))\n",
    "mace_exercises.append(exercise('90 degree pivot uppercut',['L','R'], level=2))\n",
    "mace_exercises.append(exercise('90 degree pivot uppercut to 360 barbell transition',['alternating'], level=3))\n",
    "mace_exercises.append(exercise('inverted side-to-side swings',['L','R'], level=2))\n",
    "mace_exercises.append(exercise('horizontal prayer transition to target squat',['L','R'], level=2))\n",
    "mace_exercises.append(exercise('horizontal prayer transition to squat',['L','R'], level=2))\n",
    "mace_exercises.append(exercise('barbell transition to squat',['L','R'], level=2))\n",
    "mace_exercises.append(exercise('barbell transition to target squat',['L','R'], level=2))\n",
    "mace_exercises.append(exercise('horizontal prayer transition to squat to 360',['alternating'], level=3))\n",
    "mace_exercises.append(exercise('barbell transition to squat to 360',['alternating'], level=3))\n",
    "mace_exercises.append(exercise('single arm inside circle',['L','R'], level=2))\n",
    "mace_exercises.append(exercise('single arm outside circle',['L','R'], level=2))\n",
    "mace_exercises.append(exercise('single arm alternating circles',['L','R'], level=2))\n",
    "mace_exercises.append(exercise('single arm inside circle to alternate hand coin flip',['L','R'], level=4))\n",
    "mace_exercises.append(exercise('single arm outside circle to alternate hand coin flip',['L','R'], level=4))\n",
    "mace_exercises.append(exercise('single arm alternating circle to alternate hand coin flip',['L','R'], level=5))\n",
    "mace_exercises.append(exercise('single arm inside circle to same hand coin flip catch',['L','R'], level=5))\n",
    "mace_exercises.append(exercise('single arm outside circle to same hand coin flip catch',['L','R'], level=5))\n",
    "mace_exercises.append(exercise('single arm alternating circle to same hand coin flip catch',['L','R'], level=6))\n",
    "mace_exercises.append(exercise('single arm inside same hand coin flip catch',['L','R'], level=4))\n",
    "mace_exercises.append(exercise('single arm outside same hand coin flip catch',['L','R'], level=4))\n",
    "mace_exercises.append(exercise('single arm inside continuous circle with alternate hand nunchuck flip',['L','R'], level=4))\n",
    "mace_exercises.append(exercise('single arm outside continuous circle with alternate hand flip aerial catch',['L','R'], level=5))\n",
    "mace_exercises.append(exercise('single arm outside continuous circle with alternate hand flip touching catch',['L','R'], level=4))\n",
    "mace_exercises.append(exercise('single arm inside mill with same side flip catch',['L','R'], level=5))\n",
    "mace_exercises.append(exercise('single arm outside mill with same side flip catch',['L','R'], level=5))\n",
    "mace_exercises.append(exercise('single arm inside mill with alt side flip catch (nunchuck flip to change back)',['L','R'], level=5))\n",
    "mace_exercises.append(exercise('single arm outside mill with alt side flip catch',['L','R'], level=5))"
   ]
  },
  {
   "cell_type": "code",
   "execution_count": 85,
   "metadata": {},
   "outputs": [],
   "source": [
    "club_exercises_2h = []\n",
    "club_exercises_2h.append(exercise('inside circles', ['L','R'], level=1))\n",
    "club_exercises_2h.append(exercise('outside circles', ['L','R'], level=1))\n",
    "club_exercises_2h.append(exercise('pullover', ['L','R'], level=1))\n",
    "club_exercises_2h.append(exercise('alternating pullover', ['L','R'], level=1))\n",
    "club_exercises_2h.append(exercise('inside mill', ['L','R'], level=2))\n",
    "club_exercises_2h.append(exercise('outside mill', ['L','R'], level=2))\n",
    "club_exercises_2h.append(exercise('alternating mill circle transition', ['L','R'], level=3))\n",
    "club_exercises_2h.append(exercise('alternating mill pendulum transition', ['L','R'], level=3))\n",
    "club_exercises_2h.append(exercise('alternating mill pullover transition', ['L','R'], level=3))"
   ]
  },
  {
   "cell_type": "code",
   "execution_count": 86,
   "metadata": {},
   "outputs": [],
   "source": [
    "club_exercises_1h = []\n",
    "club_exercises_1h.append(exercise('inside circles', ['L','R'], level=1))\n",
    "club_exercises_1h.append(exercise('outside circles', ['L','R'], level=1))\n",
    "club_exercises_1h.append(exercise('pullover', ['L','R'], level=1))\n",
    "club_exercises_1h.append(exercise('alternating pullover', ['L','R'], level=1))\n",
    "club_exercises_1h.append(exercise('inside mill', ['L','R'], level=2))\n",
    "club_exercises_1h.append(exercise('outside mill', ['L','R'], level=2))\n",
    "club_exercises_1h.append(exercise('inside mill circle transition', ['alternating'], level=3))\n",
    "club_exercises_1h.append(exercise('outside mill circle transition', ['alternating'], level=3))\n",
    "club_exercises_1h.append(exercise('inside mill swing transition', ['alternating'], level=3))\n",
    "club_exercises_1h.append(exercise('outside mill swing transition', ['alternating'], level=3))\n",
    "club_exercises_1h.append(exercise('pendulum alternating mill', ['L','R'], level=3))\n",
    "club_exercises_1h.append(exercise('swipe', ['L','R'], level=2))\n",
    "club_exercises_1h.append(exercise('swipe', ['alternating'], level=3))\n",
    "club_exercises_1h.append(exercise('outside swing', ['L','R'], level=1))\n",
    "club_exercises_1h.append(exercise('outside swing', ['alternating'], level=2))"
   ]
  },
  {
   "cell_type": "code",
   "execution_count": 87,
   "metadata": {},
   "outputs": [
    {
     "name": "stdout",
     "output_type": "stream",
     "text": [
      "mace workout\n",
      "level:2\tR - single arm inside circle\n",
      "level:2\tL - single arm inside circle\n",
      "level:2\tR - horizontal prayer transition to target squat\n",
      "level:2\tL - horizontal prayer transition to target squat\n",
      "level:2\tR - single arm alternating circles\n",
      "level:2\tL - single arm alternating circles\n",
      "level:2\talternating - prayer transition to 360\n",
      "level:2\tR - inverted side-to-side swings\n",
      "level:2\tL - inverted side-to-side swings\n",
      "level:2\tR - barbell transition to target squat\n",
      "level:2\tL - barbell transition to target squat\n",
      "total time:11\n"
     ]
    }
   ],
   "source": [
    "print(\"mace workout\")\n",
    "mace = get_workout(mace_exercises,10, level_lower_bound=1, level_upper_bound=4)\n",
    "print_workout(mace,order_by_level=True, randomize_RL = True, reverse_RL=False)\n",
    "round_time = 1 # time in minutes\n",
    "print('total time:{}'.format(round_time* sum([e.count for e in mace])))"
   ]
  },
  {
   "cell_type": "code",
   "execution_count": 90,
   "metadata": {},
   "outputs": [
    {
     "name": "stdout",
     "output_type": "stream",
     "text": [
      "club workout 1H\n",
      "level:1\tL - alternating pullover\n",
      "level:1\tR - alternating pullover\n",
      "level:1\tL - pullover\n",
      "level:1\tR - pullover\n",
      "level:2\tL - swipe\n",
      "level:2\tR - swipe\n",
      "level:2\tL - inside mill\n",
      "level:2\tR - inside mill\n",
      "level:3\talternating - swipe\n",
      "level:3\talternating - inside mill\n",
      "level:3\tL - pendulum alternating mill\n",
      "level:3\tR - pendulum alternating mill\n",
      "total time:12\n"
     ]
    }
   ],
   "source": [
    "print(\"club workout 1H\")\n",
    "club_1h = get_workout(club_exercises_1h,12, level_lower_bound=1, level_upper_bound=4)\n",
    "print_workout(club_1h,order_by_level=True, randomize_RL = True, reverse_RL=False)\n",
    "round_time = 1 # time in minutes\n",
    "print('total time:{}'.format(round_time* sum([e.count for e in club_1h])))"
   ]
  },
  {
   "cell_type": "code",
   "execution_count": null,
   "metadata": {},
   "outputs": [],
   "source": []
  }
 ],
 "metadata": {
  "kernelspec": {
   "display_name": "Python 3",
   "language": "python",
   "name": "python3"
  },
  "language_info": {
   "codemirror_mode": {
    "name": "ipython",
    "version": 3
   },
   "file_extension": ".py",
   "mimetype": "text/x-python",
   "name": "python",
   "nbconvert_exporter": "python",
   "pygments_lexer": "ipython3",
   "version": "3.7.4"
  }
 },
 "nbformat": 4,
 "nbformat_minor": 4
}

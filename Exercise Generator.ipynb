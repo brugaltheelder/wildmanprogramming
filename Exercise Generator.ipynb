{
 "cells": [
  {
   "cell_type": "code",
   "execution_count": 1,
   "metadata": {},
   "outputs": [],
   "source": [
    "from exercise import *"
   ]
  },
  {
   "cell_type": "code",
   "execution_count": 3,
   "metadata": {
    "scrolled": false
   },
   "outputs": [
    {
     "name": "stdout",
     "output_type": "stream",
     "text": [
      "generating mace workout\n",
      "level:1\tL - gamma cast\n",
      "level:1\tR - gamma cast\n",
      "\turl: https://www.youtube.com/watch?v=ccifkBh2JSI&list=PLk4oYPJ7TXKh050XTrfVFjPtDSeqYCfsh&index=3\n",
      "level:2\tL - barbell transition to squat\n",
      "level:2\tR - barbell transition to squat\n",
      "\turl: https://www.youtube.com/watch?v=kZK8Eq6ka0U&list=PLk4oYPJ7TXKh050XTrfVFjPtDSeqYCfsh&index=14\n",
      "level:2\tL - horizontal prayer transition to target squat\n",
      "level:2\tR - horizontal prayer transition to target squat\n",
      "\turl: https://www.youtube.com/watch?v=2yUz84zdBlk&list=PLk4oYPJ7TXKh050XTrfVFjPtDSeqYCfsh&index=13\n",
      "level:3\talternating - paddle row to upper block with barbell transition to 360\n",
      "\turl: https://www.youtube.com/watch?v=4or7Sb8HyaU&list=PLk4oYPJ7TXKh050XTrfVFjPtDSeqYCfsh&index=12\n",
      "level:4\tL - single arm outside circle to alternate hand coin flip\n",
      "level:4\tR - single arm outside circle to alternate hand coin flip\n",
      "\turl: https://www.youtube.com/watch?v=qX0nE-3VMN0&list=PLk4oYPJ7TXKh050XTrfVFjPtDSeqYCfsh&index=20\n",
      "level:4\tL - single arm outside continuous circle with alternate hand flip touching catch\n",
      "level:4\tR - single arm outside continuous circle with alternate hand flip touching catch\n",
      "\turl: https://www.youtube.com/watch?v=T5lfsHi1rDY&list=PLk4oYPJ7TXKh050XTrfVFjPtDSeqYCfsh&index=26\n",
      "total time:11\n"
     ]
    }
   ],
   "source": [
    "time_limit = 11 # number of exercises/variations you plan on doing, assumed to be 1 minute each\n",
    "level_lower_bound = 0 # lower complexity level\n",
    "level_upper_bound = 4 # upper complexity level, assumed to go to 10 (chosen by me, so not scientifically or anything)\n",
    "only_isolation = False # if true, only chooses L and R isloation exercises\n",
    "only_alternating = False # if true, only chooses alternating exercises\n",
    "order_by_level=True # orders the output  list in increasing complexity\n",
    "randomize_RL = True # randomize if R or L comes first (and then is consistent)\n",
    "reverse_RL = False # forces R to come first if true\n",
    "print_urls = True # prints urls to Wildman's videos for each of the movement patterns \n",
    "\n",
    "\n",
    "\n",
    "get_mace_workout(time_limit, level_lower_bound =level_lower_bound, level_upper_bound = level_upper_bound, \n",
    "                only_isolation=only_isolation, only_alternating=only_alternating, order_by_level=order_by_level, \n",
    "                     randomize_RL = randomize_RL, reverse_RL=reverse_RL, print_urls=print_urls)"
   ]
  },
  {
   "cell_type": "code",
   "execution_count": 4,
   "metadata": {},
   "outputs": [
    {
     "name": "stdout",
     "output_type": "stream",
     "text": [
      "generating 1h club workout\n",
      "level:1\tL - outside circles\n",
      "level:1\tR - outside circles\n",
      "\turl: \n",
      "level:1\tL - alternating pullover\n",
      "level:1\tR - alternating pullover\n",
      "\turl: \n",
      "level:1\tL - pullover\n",
      "level:1\tR - pullover\n",
      "\turl: \n",
      "level:2\tL - inside mill\n",
      "level:2\tR - inside mill\n",
      "\turl: \n",
      "level:2\tL - outside mill\n",
      "level:2\tR - outside mill\n",
      "\turl: \n",
      "level:3\talternating - outside mill swing transition\n",
      "\turl: \n",
      "level:3\talternating - inside mill swing transition\n",
      "\turl: \n",
      "total time:12\n"
     ]
    }
   ],
   "source": [
    "get_1h_club_workout(time_limit, level_lower_bound =level_lower_bound, level_upper_bound = level_upper_bound, \n",
    "                only_isolation=only_isolation, only_alternating=only_alternating, order_by_level=order_by_level, \n",
    "                     randomize_RL = randomize_RL, reverse_RL=reverse_RL, print_urls=print_urls)"
   ]
  },
  {
   "cell_type": "code",
   "execution_count": 10,
   "metadata": {},
   "outputs": [
    {
     "name": "stdout",
     "output_type": "stream",
     "text": [
      "generating 2h club workout\n",
      "level:2\tL - inside mill\n",
      "level:2\tR - inside mill\n",
      "\turl: \n",
      "level:2\tL - outside mill\n",
      "level:2\tR - outside mill\n",
      "\turl: \n",
      "level:3\tL - alternating mill circle transition\n",
      "level:3\tR - alternating mill circle transition\n",
      "\turl: \n",
      "level:3\tL - alternating mill pendulum transition\n",
      "level:3\tR - alternating mill pendulum transition\n",
      "\turl: \n",
      "level:3\tL - alternating mill pullover transition\n",
      "level:3\tR - alternating mill pullover transition\n",
      "\turl: \n",
      "total time:10\n"
     ]
    }
   ],
   "source": [
    "get_2h_club_workout(time_limit, level_lower_bound =level_lower_bound, level_upper_bound = level_upper_bound, \n",
    "                only_isolation=only_isolation, only_alternating=only_alternating, order_by_level=order_by_level, \n",
    "                     randomize_RL = randomize_RL, reverse_RL=reverse_RL, print_urls=print_urls)"
   ]
  },
  {
   "cell_type": "code",
   "execution_count": null,
   "metadata": {},
   "outputs": [],
   "source": []
  }
 ],
 "metadata": {
  "kernelspec": {
   "display_name": "Python 2",
   "language": "python",
   "name": "python2"
  },
  "language_info": {
   "codemirror_mode": {
    "name": "ipython",
    "version": 2
   },
   "file_extension": ".py",
   "mimetype": "text/x-python",
   "name": "python",
   "nbconvert_exporter": "python",
   "pygments_lexer": "ipython2",
   "version": "2.7.15"
  }
 },
 "nbformat": 4,
 "nbformat_minor": 4
}

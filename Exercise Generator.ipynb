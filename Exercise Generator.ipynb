{
 "cells": [
  {
   "cell_type": "code",
   "execution_count": 1,
   "metadata": {},
   "outputs": [],
   "source": [
    "from exercise import *"
   ]
  },
  {
   "cell_type": "code",
   "execution_count": 13,
   "metadata": {
    "scrolled": false
   },
   "outputs": [
    {
     "name": "stdout",
     "output_type": "stream",
     "text": [
      "generating mace workout\n",
      "level:1\tR - gamma cast\n",
      "level:1\tL - gamma cast\n",
      "\turl: https://www.youtube.com/watch?v=ccifkBh2JSI&list=PLk4oYPJ7TXKh050XTrfVFjPtDSeqYCfsh&index=3\n",
      "level:2\talternating - barbell transition to 360\n",
      "\turl: https://www.youtube.com/watch?v=WQjHBHoC-MQ&list=PLk4oYPJ7TXKh050XTrfVFjPtDSeqYCfsh&index=4\n",
      "level:2\tR - horizontal prayer transition to target squat\n",
      "level:2\tL - horizontal prayer transition to target squat\n",
      "\turl: https://www.youtube.com/watch?v=2yUz84zdBlk&list=PLk4oYPJ7TXKh050XTrfVFjPtDSeqYCfsh&index=13\n",
      "level:2\tR - inverted side-to-side swings\n",
      "level:2\tL - inverted side-to-side swings\n",
      "\turl: https://www.youtube.com/watch?v=bLA2KSghSdc&list=PLk4oYPJ7TXKh050XTrfVFjPtDSeqYCfsh&index=8\n",
      "level:2\tR - single arm alternating circles\n",
      "level:2\tL - single arm alternating circles\n",
      "\turl: https://www.youtube.com/watch?v=XWIFyifqSr8&list=PLk4oYPJ7TXKh050XTrfVFjPtDSeqYCfsh&index=18\n",
      "level:2\tR - barbell transition to target squat\n",
      "level:2\tL - barbell transition to target squat\n",
      "\turl: https://www.youtube.com/watch?v=kZK8Eq6ka0U&list=PLk4oYPJ7TXKh050XTrfVFjPtDSeqYCfsh&index=14\n",
      "level:4\tR - single arm inside continuous circle with alternate hand nunchuck flip\n",
      "level:4\tL - single arm inside continuous circle with alternate hand nunchuck flip\n",
      "\turl: https://www.youtube.com/watch?v=rCgrNJLsrBM&list=PLk4oYPJ7TXKh050XTrfVFjPtDSeqYCfsh&index=25\n",
      "total time:13\n"
     ]
    }
   ],
   "source": [
    "time_limit = 12          # number of exercises/variations you plan on doing, assumed to be 1 minute each\n",
    "level_lower_bound = 0    # lower complexity level\n",
    "level_upper_bound = 4    # upper complexity level, assumed to go to 10 (chosen by me, so not scientifically or anything)\n",
    "only_isolation = False   # if true, only chooses L and R isloation exercises\n",
    "only_alternating = False # if true, only chooses alternating exercises\n",
    "order_by_level=True      # orders the output  list in increasing complexity\n",
    "randomize_RL = True      # randomize if R or L comes first (and then is consistent)\n",
    "reverse_RL = False       # forces R to come first if true\n",
    "print_urls = True        # prints urls to Wildman's videos for each of the movement patterns \n",
    "\n",
    "\n",
    "\n",
    "get_mace_workout(time_limit, level_lower_bound =level_lower_bound, level_upper_bound = level_upper_bound, \n",
    "                only_isolation=only_isolation, only_alternating=only_alternating, order_by_level=order_by_level, \n",
    "                     randomize_RL = randomize_RL, reverse_RL=reverse_RL, print_urls=print_urls)"
   ]
  },
  {
   "cell_type": "code",
   "execution_count": 3,
   "metadata": {},
   "outputs": [
    {
     "name": "stdout",
     "output_type": "stream",
     "text": [
      "generating 1h club workout\n",
      "level:1\tR - forward swing\n",
      "level:1\tL - forward swing\n",
      "\turl: \n",
      "level:1\tR - inside circles\n",
      "level:1\tL - inside circles\n",
      "\turl: https://www.youtube.com/watch?v=0ZzoCasyoAM&list=PLk4oYPJ7TXKgVZH0qykDznDeaAcFImRuS&index=6\n",
      "level:1\tR - pullover\n",
      "level:1\tL - pullover\n",
      "\turl: \n",
      "level:2\tR - swipe\n",
      "level:2\tL - swipe\n",
      "\turl: \n",
      "level:2\tR - outside pendulum\n",
      "level:2\tL - outside pendulum\n",
      "\turl: https://www.youtube.com/watch?v=SchCGLfQbjI&list=PLk4oYPJ7TXKgVZH0qykDznDeaAcFImRuS&index=12\n",
      "level:2\talternating - forward swing hand to hand\n",
      "\turl: \n",
      "level:3\talternating - inside mill forward swing transition\n",
      "\turl: \n",
      "level:3\talternating - outside mill outside circle transition\n",
      "\turl: \n",
      "level:3\tR - alternating 180 degree pullover\n",
      "level:3\tL - alternating 180 degree pullover\n",
      "\turl: https://www.youtube.com/watch?v=9JeH7kTi1ys&list=PLk4oYPJ7TXKgVZH0qykDznDeaAcFImRuS&index=21\n",
      "level:3\tR - pendulum alternating mill\n",
      "level:3\tL - pendulum alternating mill\n",
      "\turl: \n",
      "level:3\talternating - swipe forward swing transition\n",
      "\turl: \n",
      "level:3\talternating - inside mill inside circle transition\n",
      "\turl: \n",
      "level:3\talternating - continuous inside circle hand change\n",
      "\turl: https://www.youtube.com/watch?v=XPZgv-vf7ME&list=PLk4oYPJ7TXKgVZH0qykDznDeaAcFImRuS&index=19\n",
      "total time:20\n"
     ]
    }
   ],
   "source": [
    "get_1h_club_workout(time_limit, level_lower_bound =level_lower_bound, level_upper_bound = level_upper_bound, \n",
    "                only_isolation=only_isolation, only_alternating=only_alternating, order_by_level=order_by_level, \n",
    "                     randomize_RL = randomize_RL, reverse_RL=reverse_RL, print_urls=print_urls)"
   ]
  },
  {
   "cell_type": "code",
   "execution_count": 4,
   "metadata": {},
   "outputs": [
    {
     "name": "stdout",
     "output_type": "stream",
     "text": [
      "generating 2h club workout\n",
      "level:1\tL - inside circles\n",
      "level:1\tR - inside circles\n",
      "\turl: https://www.youtube.com/watch?v=Exuf3a7RhYs&list=PLk4oYPJ7TXKgVZH0qykDznDeaAcFImRuS\n",
      "level:1\tL - pullover\n",
      "level:1\tR - pullover\n",
      "\turl: https://www.youtube.com/watch?v=HsM0J39EmXg&list=PLk4oYPJ7TXKgVZH0qykDznDeaAcFImRuS&index=3\n",
      "level:1\tL - outside circles\n",
      "level:1\tR - outside circles\n",
      "\turl: https://www.youtube.com/watch?v=-MuseVIc0bg&list=PLk4oYPJ7TXKgVZH0qykDznDeaAcFImRuS&index=2\n",
      "level:1\tL - alternating pullover\n",
      "level:1\tR - alternating pullover\n",
      "\turl: https://www.youtube.com/watch?v=HsM0J39EmXg&list=PLk4oYPJ7TXKgVZH0qykDznDeaAcFImRuS&index=3\n",
      "level:2\tL - inside pendulum\n",
      "level:2\tR - inside pendulum\n",
      "\turl: https://www.youtube.com/watch?v=Maz36Iuixk4&list=PLk4oYPJ7TXKgVZH0qykDznDeaAcFImRuS&index=9\n",
      "level:2\tL - gamma cast\n",
      "level:2\tR - gamma cast\n",
      "\turl: https://www.youtube.com/watch?v=rjhwF50fyd8&list=PLk4oYPJ7TXKgVZH0qykDznDeaAcFImRuS&index=5\n",
      "level:3\tL - inside mill\n",
      "level:3\tR - inside mill\n",
      "\turl: \n",
      "level:3\tL - half kneeling shield cast\n",
      "level:3\tR - half kneeling shield cast\n",
      "\turl: https://www.youtube.com/watch?v=vyLu0AFD-Mc&list=PLk4oYPJ7TXKgVZH0qykDznDeaAcFImRuS&index=31\n",
      "level:3\tL - alternating pendulum\n",
      "level:3\tR - alternating pendulum\n",
      "\turl: https://www.youtube.com/watch?v=GULjXPS_ba4&list=PLk4oYPJ7TXKgVZH0qykDznDeaAcFImRuS&index=14\n",
      "level:4\tL - alternating mill pullover transition\n",
      "level:4\tR - alternating mill pullover transition\n",
      "\turl: \n",
      "total time:20\n"
     ]
    }
   ],
   "source": [
    "get_2h_club_workout(time_limit, level_lower_bound =level_lower_bound, level_upper_bound = level_upper_bound, \n",
    "                only_isolation=only_isolation, only_alternating=only_alternating, order_by_level=order_by_level, \n",
    "                     randomize_RL = randomize_RL, reverse_RL=reverse_RL, print_urls=print_urls)"
   ]
  },
  {
   "cell_type": "code",
   "execution_count": 25,
   "metadata": {},
   "outputs": [
    {
     "name": "stdout",
     "output_type": "stream",
     "text": [
      "Sandbag rountine for 140 lb person at 0.25 percent sand weight of 35.0 lbs\n",
      "Total Min\tDelay(s)\tReps\n",
      "3\t\t10\t\t18\n",
      "4\t\t10\t\t24\n",
      "5\t\t10\t\t30\n",
      "6\t\t10\t\t36\n",
      "7\t\t10\t\t42\n",
      "8\t\t10\t\t48\n",
      "9\t\t10\t\t54\n",
      "10\t\t9\t\t66\n",
      "10\t\t8\t\t75\n",
      "10\t\t7\t\t85\n",
      "10\t\t6\t\t100\n"
     ]
    }
   ],
   "source": [
    "body_weight_lbs = 140\n",
    "percent_weight_sandbag = 0.25\n",
    "generate_sandbag_table(140,0.25)"
   ]
  },
  {
   "cell_type": "code",
   "execution_count": 19,
   "metadata": {},
   "outputs": [
    {
     "data": {
      "text/plain": [
       "[9, 8, 7, 6]"
      ]
     },
     "execution_count": 19,
     "metadata": {},
     "output_type": "execute_result"
    }
   ],
   "source": []
  },
  {
   "cell_type": "code",
   "execution_count": null,
   "metadata": {},
   "outputs": [],
   "source": []
  }
 ],
 "metadata": {
  "kernelspec": {
   "display_name": "Python 2",
   "language": "python",
   "name": "python2"
  },
  "language_info": {
   "codemirror_mode": {
    "name": "ipython",
    "version": 2
   },
   "file_extension": ".py",
   "mimetype": "text/x-python",
   "name": "python",
   "nbconvert_exporter": "python",
   "pygments_lexer": "ipython2",
   "version": "2.7.15"
  }
 },
 "nbformat": 4,
 "nbformat_minor": 4
}
